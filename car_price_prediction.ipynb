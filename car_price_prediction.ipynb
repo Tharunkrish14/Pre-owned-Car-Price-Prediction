{
 "cells": [
  {
   "cell_type": "code",
   "execution_count": null,
   "metadata": {},
   "outputs": [],
   "source": [
    "import numpy as np \n",
    "import pandas as pd\n",
    "\n",
    "# Visualization Libraries\n",
    "import matplotlib.pyplot as plt\n",
    "import matplotlib.patches as pcs\n",
    "import seaborn as sns\n",
    "import plotly.express as px\n",
    "\n",
    "\n",
    "# ML Libraries\n",
    "from sklearn.model_selection import train_test_split, KFold, cross_val_score\n",
    "from sklearn.preprocessing import MinMaxScaler\n",
    "from sklearn.linear_model import LinearRegression\n",
    "from sklearn import metrics\n",
    "\n",
    "import warnings\n",
    "warnings.filterwarnings('ignore')"
   ]
  },
  {
   "cell_type": "code",
   "execution_count": null,
   "metadata": {},
   "outputs": [],
   "source": [
    "data = pd.read_csv(\"/kaggle/input/cardata/cardata.csv\")\n",
    "df = pd.DataFrame(data)\n",
    "df.head()"
   ]
  },
  {
   "cell_type": "code",
   "execution_count": null,
   "metadata": {},
   "outputs": [],
   "source": [
    "df.info()"
   ]
  },
  {
   "cell_type": "code",
   "execution_count": null,
   "metadata": {},
   "outputs": [],
   "source": [
    "df.describe(exclude=\"object\")"
   ]
  },
  {
   "cell_type": "code",
   "execution_count": null,
   "metadata": {},
   "outputs": [],
   "source": [
    "df.describe(include=\"object\")"
   ]
  },
  {
   "cell_type": "code",
   "execution_count": null,
   "metadata": {},
   "outputs": [],
   "source": [
    "df.isnull().sum()"
   ]
  },
  {
   "cell_type": "code",
   "execution_count": null,
   "metadata": {},
   "outputs": [],
   "source": [
    "df[df.duplicated()]"
   ]
  },
  {
   "cell_type": "code",
   "execution_count": null,
   "metadata": {},
   "outputs": [],
   "source": [
    "dup1 = df[(df[\"Car_Name\"] == \"ertiga\") & (df[\"Year\"] == 2016)]\n",
    "dup2 = df[(df[\"Car_Name\"] == \"fortuner\") & (df[\"Year\"] == 2015)]\n",
    "duplicates = dup1._append(dup2, ignore_index=True).style.background_gradient(axis=0)\n",
    "duplicates"
   ]
  },
  {
   "cell_type": "code",
   "execution_count": null,
   "metadata": {},
   "outputs": [],
   "source": [
    "df.drop_duplicates(inplace=True)\n",
    "df = df.reset_index(drop=True)\n",
    "\n",
    "\n",
    "df.describe(exclude=\"object\").T"
   ]
  },
  {
   "cell_type": "code",
   "execution_count": null,
   "metadata": {},
   "outputs": [],
   "source": [
    "df.describe(include=\"object\").T"
   ]
  },
  {
   "cell_type": "code",
   "execution_count": null,
   "metadata": {},
   "outputs": [],
   "source": [
    "fig1, ax1 = plt.subplots(1,3, figsize=(20, 6), dpi = 80)\n",
    "sns.scatterplot(data=df, x='Year', y='Selling_Price', ax=ax1[0])\n",
    "sns.scatterplot(data=df, x='Present_Price', y='Selling_Price', ax=ax1[1])\n",
    "sns.scatterplot(data=df, x='Kms_Driven', y='Selling_Price', ax=ax1[2])\n",
    "\n",
    "#add Circles\n",
    "ax1[0].add_patch(pcs.Ellipse((2010, 35), 1,2,color='red',fill = False, linewidth=2))\n",
    "ax1[1].add_patch(pcs.Ellipse((93, 35), 6,2,color='red',fill = False, linewidth=2))\n",
    "ax1[2].add_patch(pcs.Ellipse((500000, 0), 35000,2,color='red',fill = False, linewidth=2))\n",
    "ax1[2].add_patch(pcs.Ellipse((78000,35), 35000,2,color='red',fill = False, linewidth=2))\n",
    "\n",
    "\n",
    "for ax in ax1:\n",
    "    ax.grid(True)\n",
    "    ax.set_axisbelow(True)\n",
    "    ax.set_facecolor('#e5eefd')"
   ]
  },
  {
   "cell_type": "code",
   "execution_count": null,
   "metadata": {},
   "outputs": [],
   "source": [
    "fig2, ax2 = plt.subplots(1,4 , figsize=(20, 5), dpi = 80)\n",
    "\n",
    "sns.scatterplot(data=df, x='Fuel_Type', y= 'Selling_Price', ax=ax2[0])\n",
    "sns.scatterplot(data=df, x='Seller_Type', y= 'Selling_Price', ax=ax2[1])\n",
    "sns.scatterplot(data=df, x='Transmission', y= 'Selling_Price', ax=ax2[2])\n",
    "sns.scatterplot(data=df, x='Owner', y= 'Selling_Price', ax=ax2[3])\n",
    "\n",
    "#add Circles\n",
    "ax2[0].add_patch(pcs.Ellipse(([\"Diesel\"], 34), 0.2,6,color='red',fill = False, linewidth=2))\n",
    "ax2[1].add_patch(pcs.Ellipse(([\"Individual\"], 16), 0.1,3,color='red',fill = False, linewidth=2))\n",
    "ax2[2].add_patch(pcs.Ellipse(([\"Manual\"], 35),0.1,3,color='red',fill = False, linewidth=2))\n",
    "\n",
    "for ax in ax2:\n",
    "    ax.grid(True)\n",
    "    ax.set_axisbelow(True)\n",
    "    ax.set_facecolor('#e5eefd')"
   ]
  },
  {
   "cell_type": "code",
   "execution_count": null,
   "metadata": {},
   "outputs": [],
   "source": [
    "df[(df[\"Year\"] == 2010) & (df[\"Selling_Price\"] > 30) & (df[\"Kms_Driven\"] >30)]"
   ]
  },
  {
   "cell_type": "code",
   "execution_count": null,
   "metadata": {},
   "outputs": [],
   "source": [
    "fig3, ax3 = plt.subplots(1,4 , figsize=(20, 5), dpi = 80)\n",
    "\n",
    "sns.countplot(data=df, x='Fuel_Type', ax=ax3[0])\n",
    "sns.countplot(data=df, x='Seller_Type', ax=ax3[1])\n",
    "sns.countplot(data=df, x='Transmission', ax=ax3[2])\n",
    "sns.countplot(data=df, x='Owner', ax=ax3[3])\n",
    "\n",
    "for ax in ax3:\n",
    "    ax.grid(True)\n",
    "    ax.set_axisbelow(True)\n",
    "    ax.set_facecolor('#e5eefd')"
   ]
  },
  {
   "cell_type": "code",
   "execution_count": null,
   "metadata": {},
   "outputs": [],
   "source": [
    "df.iloc[:,5:].apply(lambda x : print(f'{x.value_counts()}',\"\\n\",\"-\"*20))"
   ]
  },
  {
   "cell_type": "code",
   "execution_count": null,
   "metadata": {},
   "outputs": [],
   "source": [
    "df[\"Age\"] = ( df[\"Year\"].max() - df[\"Year\"] ) + 1"
   ]
  },
  {
   "cell_type": "code",
   "execution_count": null,
   "metadata": {},
   "outputs": [],
   "source": [
    "Df = df[['Age','Present_Price', 'Kms_Driven','Fuel_Type',\n",
    "         'Seller_Type', 'Transmission', 'Owner','Selling_Price']]\n",
    "Df.reset_index(drop=True, inplace=True)\n",
    "Df"
   ]
  },
  {
   "cell_type": "code",
   "execution_count": null,
   "metadata": {},
   "outputs": [],
   "source": [
    "Df.Fuel_Type = Df.Fuel_Type.replace({\"Petrol\": 2, \"Diesel\": 3, \"CNG\": 4})\n",
    "\n",
    "# Seller_Type\n",
    "Df.Seller_Type = Df.Seller_Type.replace({\"Dealer\": 2, \"Individual\": 3})\n",
    "\n",
    "# Transmission\n",
    "Df.Transmission = Df.Transmission.replace({\"Manual\": 2, \"Automatic\": 3})"
   ]
  },
  {
   "cell_type": "code",
   "execution_count": null,
   "metadata": {},
   "outputs": [],
   "source": [
    "Df.head()"
   ]
  },
  {
   "cell_type": "code",
   "execution_count": null,
   "metadata": {},
   "outputs": [],
   "source": [
    "fig4 = px.imshow(Df.corr(), text_auto=True,  aspect=\"auto\")\n",
    "fig4.show()"
   ]
  },
  {
   "cell_type": "code",
   "execution_count": null,
   "metadata": {},
   "outputs": [],
   "source": [
    "MAE = pd.DataFrame(columns=[\"MAE_train\",\"MAE_test\"])\n",
    "MSE = pd.DataFrame(columns=[\"MSE_train\",\"MSE_test\"])\n",
    "R2 = pd.DataFrame(columns=[\"R2_train\",\"R2_test\"])"
   ]
  },
  {
   "cell_type": "code",
   "execution_count": null,
   "metadata": {},
   "outputs": [],
   "source": [
    "def error_score(y_test,y_train,y_predict_test,y_predict_train):\n",
    "    \n",
    "    #calculate the errors and scores\n",
    "    MAE_train = np.round( metrics.mean_absolute_error(y_train,y_predict_train), 3 )\n",
    "    MAE_test = np.round( metrics.mean_absolute_error(y_test,y_predict_test), 3 )\n",
    "    MSE_train = np.round( metrics.mean_squared_error(y_train,y_predict_train), 3 )\n",
    "    MSE_test = np.round( metrics.mean_squared_error(y_test,y_predict_test), 3 )\n",
    "    R2_train = np.round( metrics.r2_score(y_train,y_predict_train), 3 )\n",
    "    R2_test = np.round( metrics.r2_score(y_test,y_predict_test), 3 )\n",
    "    \n",
    "    print(\"MAE train : \" , MAE_train)\n",
    "    print(\"MSE train : \" , MSE_train)\n",
    "    print(\"R2 Score train : \" , R2_train,\"\\n\")\n",
    "\n",
    "    print(\"MAE test : \" , MAE_test)\n",
    "    print(\"MSE test : \" , MSE_test)\n",
    "    print(\"R2 Score test : \" , R2_test,\"\\n\")\n",
    "        \n",
    "    global MAE\n",
    "    global MSE\n",
    "    global R2\n",
    "    \n",
    "    MAE = MAE._append({\"MAE_train\": MAE_train , \"MAE_test\" : MAE_test},ignore_index=True)\n",
    "    MSE = MSE._append({\"MSE_train\": MSE_train , \"MSE_test\" : MSE_test},ignore_index=True)\n",
    "    R2 = R2._append({\"R2_train\": R2_train , \"R2_test\" : R2_test},ignore_index=True)\n",
    "\n",
    "    #plot\n",
    "    fig_1, ax_1 = plt.subplots(1,3, figsize=(12, 3), dpi = 80)\n",
    "    sns.lineplot(data=MAE, ax=ax_1[0], markers=True)\n",
    "    sns.lineplot(data=MSE, ax=ax_1[1], markers=True)\n",
    "    sns.lineplot(data=R2, ax=ax_1[2], markers=True)   \n",
    "    ax_1[0].grid(True)\n",
    "    ax_1[1].grid(True)\n",
    "    ax_1[2].grid(True)   \n",
    "    ax_1[0].set_axisbelow(True)\n",
    "    ax_1[1].set_axisbelow(True)\n",
    "    ax_1[2].grid(True)\n",
    "    ax_1[0].set_facecolor('#e5eefd')\n",
    "    ax_1[1].set_facecolor('#e5eefd')\n",
    "    ax_1[2].set_facecolor('#e5eefd')           \n",
    "    ax_1[0].set_xlabel('MAE')   \n",
    "    ax_1[1].set_xlabel('MSE')\n",
    "    ax_1[2].set_xlabel('R2')\n",
    "    plt.show()"
   ]
  },
  {
   "cell_type": "code",
   "execution_count": null,
   "metadata": {},
   "outputs": [],
   "source": [
    "def LinearRegressionModel(df,testSize,k):\n",
    "    \n",
    "    #normalizing the data\n",
    "    global X\n",
    "    global Y\n",
    "    \n",
    "    col_list=list(df.columns)[:-1]\n",
    "    scaler = MinMaxScaler(feature_range=(2,5))\n",
    "    norm = scaler.fit_transform(df[col_list])\n",
    "    norm = pd.DataFrame(norm, columns=col_list)\n",
    "\n",
    "    X = norm\n",
    "    Y = df[\"Selling_Price\"].values.reshape(-1,1)\n",
    "    \n",
    "    #create model\n",
    "    x_train, x_test, y_train, y_test = train_test_split(X,Y, test_size=testSize, random_state=0)\n",
    "    model = LinearRegression()\n",
    "    kfold_val = KFold(k)\n",
    "    cv_score = cross_val_score(model, x_train,y_train, cv=kfold_val)\n",
    "    print(\"cross validation score: \", cv_score,\"\\n\")\n",
    "    \n",
    "    #predict\n",
    "    model.fit(x_train, y_train)\n",
    "    print(\"intercept: \",model.intercept_,\"\\nweight: \",model.coef_,\"\\n\")\n",
    "    \n",
    "    y_predict_train = model.predict(x_train)\n",
    "    y_predict_test = model.predict(x_test)\n",
    "    compare_test = pd.DataFrame({\"Actual_test\": y_test.flatten() , \"Prediction_test\" : y_predict_test.flatten()})\n",
    "    compare_train = pd.DataFrame({\"Actual_train\": y_train.flatten() , \"Prediction_train\" : y_predict_train.flatten()})\n",
    "    \n",
    "    #plot\n",
    "    fig_2, ax_2 = plt.subplots(1,2, figsize=(11,4), dpi = 80)\n",
    "    sns.scatterplot(data=compare_train, x='Actual_train', y='Prediction_train', ax=ax_2[0])\n",
    "    sns.scatterplot(data=compare_test, x='Actual_test', y='Prediction_test', ax=ax_2[1])\n",
    "    ax_2[0].grid(True)\n",
    "    ax_2[1].grid(True)   \n",
    "    ax_2[0].set_axisbelow(True)\n",
    "    ax_2[0].set_facecolor('#e5eefd')\n",
    "    ax_2[1].set_axisbelow(True)\n",
    "    ax_2[1].set_facecolor('#e5eefd')        \n",
    "    ax_2[0].set_xlabel('Actual train')\n",
    "    ax_2[0].set_ylabel('Predicted train')    \n",
    "    ax_2[1].set_xlabel('Actual test')\n",
    "    ax_2[1].set_ylabel('Predicted test')   \n",
    "    plt.show()\n",
    "    \n",
    "    error_score(y_test,y_train,y_predict_test,y_predict_train) "
   ]
  },
  {
   "cell_type": "code",
   "execution_count": null,
   "metadata": {},
   "outputs": [],
   "source": [
    "Df1 = Df.copy()"
   ]
  },
  {
   "cell_type": "code",
   "execution_count": null,
   "metadata": {},
   "outputs": [],
   "source": [
    "LinearRegressionModel(Df1,0.1,6)"
   ]
  },
  {
   "cell_type": "code",
   "execution_count": null,
   "metadata": {},
   "outputs": [],
   "source": [
    "Df1.insert(0,'Driven_Fuel',Df1[\"Kms_Driven\"]*Df1['Fuel_Type'])\n",
    "\n",
    "LinearRegressionModel(Df1,0.1,6)"
   ]
  },
  {
   "cell_type": "code",
   "execution_count": null,
   "metadata": {},
   "outputs": [],
   "source": [
    "# Add the second term : Present_Price * Age\n",
    "\n",
    "Df1.insert(0,'PPrice_Age',Df1[\"Present_Price\"]*Df1['Age'])\n",
    "\n",
    "LinearRegressionModel(Df1,0.1,6)"
   ]
  },
  {
   "cell_type": "code",
   "execution_count": null,
   "metadata": {},
   "outputs": [],
   "source": [
    "# Add third term : Age**2\n",
    "\n",
    "Df1.insert(0, \"Age2\",Df1[\"Age\"]**2)\n",
    "\n",
    "LinearRegressionModel(Df1,0.1,6)"
   ]
  },
  {
   "cell_type": "code",
   "execution_count": null,
   "metadata": {},
   "outputs": [],
   "source": [
    "LinearRegressionModel(Df1,0.2,6)"
   ]
  },
  {
   "cell_type": "code",
   "execution_count": null,
   "metadata": {},
   "outputs": [],
   "source": [
    "LinearRegressionModel(Df1,0.3,6)"
   ]
  },
  {
   "cell_type": "code",
   "execution_count": null,
   "metadata": {},
   "outputs": [],
   "source": [
    "MAE = pd.DataFrame(columns=[\"MAE_train\",\"MAE_test\"])\n",
    "MSE = pd.DataFrame(columns=[\"MSE_train\",\"MSE_test\"])\n",
    "R2 = pd.DataFrame(columns=[\"R2_train\",\"R2_test\"])"
   ]
  },
  {
   "cell_type": "code",
   "execution_count": null,
   "metadata": {},
   "outputs": [],
   "source": [
    "Dff = Df.copy()\n",
    "Dff=Df.drop(85) # It is identified as an outlier in the preprocessing part.\n",
    "Dff.reset_index(drop=True,inplace=True)"
   ]
  },
  {
   "cell_type": "code",
   "execution_count": null,
   "metadata": {},
   "outputs": [],
   "source": [
    "LinearRegressionModel(Dff,0.1,6)"
   ]
  },
  {
   "cell_type": "code",
   "execution_count": null,
   "metadata": {},
   "outputs": [],
   "source": [
    "Dff.insert(0,'Driven_Fuel',Dff[\"Kms_Driven\"]*Dff['Fuel_Type'])\n",
    "\n",
    "LinearRegressionModel(Dff,0.1,6)\n"
   ]
  },
  {
   "cell_type": "code",
   "execution_count": null,
   "metadata": {},
   "outputs": [],
   "source": [
    "Dff.insert(0,'PPrice_Age',Dff[\"Present_Price\"]*Dff['Age'])\n",
    "\n",
    "LinearRegressionModel(Dff,0.1,6)"
   ]
  },
  {
   "cell_type": "code",
   "execution_count": null,
   "metadata": {},
   "outputs": [],
   "source": [
    "# Add third term : Age**2\n",
    "\n",
    "Dff.insert(0, \"Age2\",Dff[\"Age\"]**2)\n",
    "\n",
    "LinearRegressionModel(Dff,0.1,6)"
   ]
  },
  {
   "cell_type": "code",
   "execution_count": null,
   "metadata": {},
   "outputs": [],
   "source": [
    "LinearRegressionModel(Dff,0.2,6)"
   ]
  },
  {
   "cell_type": "code",
   "execution_count": null,
   "metadata": {},
   "outputs": [],
   "source": [
    "LinearRegressionModel(Dff,0.3,6)"
   ]
  },
  {
   "cell_type": "code",
   "execution_count": null,
   "metadata": {},
   "outputs": [],
   "source": [
    "data = pd.DataFrame({'Age':[8,5,1,13,6,2,12,10,10],\n",
    "                     'Present_Price':[8.75,10.35,17.85,25.25,13.14,10,24.24,18.85,11.23],\n",
    "                     'Kms_Driven':[7000,10000,13000,25000,20000,20000,20000,85000,42000],\n",
    "                     'Fuel_Type':[2,3,2,3,2,2,2,3,4],\n",
    "                     'Seller_Type':[3,2,2,3,3,2,2,2,3],\n",
    "                     'Transmission':[3,2,3,2,3,3,3,2,2],\n",
    "                     'Owner':[2,3,2,4,3,1,3,2,2],\n",
    "                     'Selling_Price':[1,1,1,1,1,1,1,1,1]})\n",
    "\n",
    "data.insert(0,'Driven_Fuel',data[\"Kms_Driven\"]*data['Fuel_Type'])\n",
    "data.insert(0,'PPrice_Age',data[\"Present_Price\"]*data['Age'])\n",
    "data.insert(0,'Age2',data[\"Age\"]**2)"
   ]
  },
  {
   "cell_type": "code",
   "execution_count": null,
   "metadata": {},
   "outputs": [],
   "source": [
    "finall_df=Dff.copy()\n",
    "final_df=pd.concat([finall_df,data],axis=0)\n",
    "final_df=final_df.reset_index(drop=True)\n",
    "colsList=list(final_df.columns)[:-1]\n",
    "scaler = MinMaxScaler(feature_range=(2,5))\n",
    "norm = scaler.fit_transform(final_df[colsList])\n",
    "norm = pd.DataFrame(norm, columns=colsList)\n",
    "norm=norm.reset_index(drop=True)"
   ]
  },
  {
   "cell_type": "code",
   "execution_count": null,
   "metadata": {},
   "outputs": [],
   "source": [
    "x_train=norm[:298]\n",
    "y_train=Dff['Selling_Price'][:298].values.reshape(-1,1)\n",
    "x_test=norm[298:]\n",
    "\n",
    "# Model\n",
    "FinallModel = LinearRegression()\n",
    "FinallModel.fit(x_train, y_train)\n",
    "print(\"intercept: \",FinallModel.intercept_,\"\\nweight: \",FinallModel.coef_,\"\\n\")"
   ]
  },
  {
   "cell_type": "code",
   "execution_count": null,
   "metadata": {},
   "outputs": [],
   "source": [
    "# Predicting Selling_Price\n",
    "y_test = FinallModel.predict(x_test)\n",
    "\n",
    "# Inplacing predicted Selling_Price into the samples dataframe\n",
    "y_test = np.round(y_test,2)\n",
    "y_test = pd.DataFrame(y_test,columns=[\"Selling_Price\"])\n",
    "data['Selling_Price'] = y_test\n",
    "\n",
    "# Return the data to the original form\n",
    "data.drop([\"Age2\",\"PPrice_Age\",\"Driven_Fuel\"],axis=1,inplace=True)\n",
    "data.Fuel_Type = data.Fuel_Type.replace({2:\"Petrol\",3: \"Diesel\",4: \"CNG\"})\n",
    "data.Seller_Type = data.Seller_Type.replace({2: \"Dealer\",3: \"Individual\"})\n",
    "data.Transmission = data.Transmission.replace({2: \"Manual\", 3: \"Automatic\"})\n",
    "\n",
    "data"
   ]
  }
 ],
 "metadata": {
  "language_info": {
   "name": "python"
  }
 },
 "nbformat": 4,
 "nbformat_minor": 2
}
